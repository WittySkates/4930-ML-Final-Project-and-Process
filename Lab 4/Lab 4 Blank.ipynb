{
 "cells": [
  {
   "cell_type": "markdown",
   "metadata": {},
   "source": [
    "# Lab 4 - Final Pipeline for ASL Data Classification\n",
    "\n",
    "This is a project group assignment.\n",
    "\n",
    "**Due: Friday, April 10, 11:59 PM**\n",
    "\n",
    "## Grading Rubric\n",
    "\n",
    "1. **Problem 1 (10 pts):** you have included a screenshot of your Zoom meeting/s.\n",
    "    \n",
    "2. **Problem 2 (90 pts):** you have finalized your end-to-end machine learning pipeline, have included a set of experiments to evaluate the performance of your model and included a discussion of your results.\n",
    "\n",
    "**Total: 100 pts**"
   ]
  },
  {
   "cell_type": "markdown",
   "metadata": {},
   "source": [
    "# End-to-End Pipeline for ASL Data Classification\n",
    "\n",
    "The objective of Lab 4 is to finalize your choice of pre-processing pipeline and classifier selection, provide discussion and motivation for the chosen approach based on outcomes from Labs 1-3.\n",
    "\n",
    "**You can use ```scikit-learn``` or ```PyTorch``` libraries.**\n",
    "\n",
    "**Objectives**\n",
    "\n",
    "By completing this assignment you will practice and master the following skills:\n",
    "\n",
    "* Experimental design\n",
    "* Setup of an end-to-end approach using supervised learning techniques\n",
    "* Library function' implementation and parameter tuning\n",
    "\n",
    "**Create your Repo**\n",
    "\n",
    "You can create the repo for this assignment by visiting the following link: https://classroom.github.com/g/hC0gy-1A"
   ]
  },
  {
   "cell_type": "markdown",
   "metadata": {},
   "source": [
    "# Training Data Set\n",
    "\n",
    "The training data set was collected from the entire class of EEL 4930. The training set contains 1844 samples of $100\\times 100$ RGB images. \n",
    "* You can download both the training data set (**\"train_data.npy\"**) and training labels (**\"train_labels.npy\"**) from our Canvas page [here](https://ufl.instructure.com/courses/395133/files/folder/Project%20Data)."
   ]
  },
  {
   "cell_type": "markdown",
   "metadata": {},
   "source": [
    "# Problem 1 Description\n",
    "\n",
    "As we have moved to a virtual environment communication, I am recommending that each team meet via Zoom.\n",
    "\n",
    "You can schedule meetings that best work for your team here: https://ufl.zoom.us/\n",
    "\n",
    "* Attach a screenshot proof that you have created a meeting and attended the meeting via Zoom.\n",
    "\n",
    "* To facilitate collaborative coding while you are communicating via Zoom, I recommend that you use [Google Colab](https://colab.research.google.com/). \n",
    "    * You can edit all your Jupter Notebooks in this platform. The updates are live so your teammates can view and participate in real time."
   ]
  },
  {
   "cell_type": "markdown",
   "metadata": {},
   "source": [
    "# Problem 2 Description\n",
    "\n",
    "In this lab you will finalize your end-to-end machine learning pipeline whichs includes pre-processing, classification and evaluation of the results for the ASL data set. The choice of your final approach will be based on outcomes from Lasb 1-3.\n",
    "\n",
    "Include a new section of experiments for the classification you choose. Your experiments should include all the standard steps of a machine learning algorithm or deep learning architecture.\n",
    "\n",
    "Provide a discussion for each step of your pipeline. This approach should be the one used to carry out experimental design on your final project code and report."
   ]
  },
  {
   "cell_type": "markdown",
   "metadata": {},
   "source": [
    "## Submit your Solution\n",
    "\n",
    "Along with your Jupyter Notebook answers, create a PDF of the notebook with your solutions.\n",
    "\n",
    "As always, `add` and `commit` the final version of your work, and `push` your code to your GitHub repository.\n",
    "\n",
    "* Submit the **URL** of your GitHub Repository as your assignment submission on Canvas (only one team member needs to do so)."
   ]
  },
  {
   "cell_type": "code",
   "execution_count": null,
   "metadata": {},
   "outputs": [],
   "source": []
  }
 ],
 "metadata": {
  "kernelspec": {
   "display_name": "Python 3",
   "language": "python",
   "name": "python3"
  },
  "language_info": {
   "codemirror_mode": {
    "name": "ipython",
    "version": 3
   },
   "file_extension": ".py",
   "mimetype": "text/x-python",
   "name": "python",
   "nbconvert_exporter": "python",
   "pygments_lexer": "ipython3",
   "version": "3.7.4"
  },
  "latex_envs": {
   "LaTeX_envs_menu_present": true,
   "autoclose": true,
   "autocomplete": true,
   "bibliofile": "biblio.bib",
   "cite_by": "apalike",
   "current_citInitial": 1,
   "eqLabelWithNumbers": true,
   "eqNumInitial": 1,
   "hotkeys": {
    "equation": "Ctrl-E",
    "itemize": "Ctrl-I"
   },
   "labels_anchors": false,
   "latex_user_defs": false,
   "report_style_numbering": false,
   "user_envs_cfg": false
  }
 },
 "nbformat": 4,
 "nbformat_minor": 2
}
