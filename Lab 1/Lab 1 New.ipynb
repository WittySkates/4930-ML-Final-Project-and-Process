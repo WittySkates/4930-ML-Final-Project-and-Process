{
 "cells": [
  {
   "cell_type": "markdown",
   "metadata": {},
   "source": [
    "# Lab 1 - Experimental Design\n",
    "\n",
    "This is a project group assignment. **No more than 4 individuals.**\n",
    "\n",
    "**Due: Monday, February 10, 11:59 PM**\n",
    "\n",
    "## Grading Rubric\n",
    "\n",
    "1. **Problem 1 (10 pts)**\n",
    "    * **Group Repository (10 pts):** Give your group a name and creta a group GitHub Project repository with your respective group name.\n",
    "    \n",
    "2. **Problem 2 (45 pts)** \n",
    "    * **Data folder (25 pts):** You've pushed your data folder with 20 pictures of each alphabet character.\n",
    "\n",
    "    * **Numpy data object (10 pts):** You've pushed your Numpy data object.\n",
    "\n",
    "    * **Numy labels object (10 pts):** You've pushed your Numpy labels object.\n",
    "    \n",
    "3. **Problem 3 (45 pts)**\n",
    "\n",
    "    * **Experimental Design report (45 pts):** this report should be in a pdf format, should contain the names of all team members and should address the topics requested.\n",
    "\n",
    "**Total: 100 pts**"
   ]
  },
  {
   "cell_type": "markdown",
   "metadata": {},
   "source": [
    "# Experimental Design\n",
    "\n",
    "In this lab assignment, you will collect your own data set and will conduct the experimental design for your project.\n",
    "\n",
    "**Objectives**\n",
    "\n",
    "By completing this assignment you will practice and master the following skills:\n",
    "\n",
    "* Data acquisition protocol \n",
    "\n",
    "* Experimental design on an end-to-end machine learning system\n",
    "\n",
    "**Create your Repo**\n",
    "\n",
    "You can create the repo for this assignment by visiting the following link: https://classroom.github.com/g/Ht-I4vMu"
   ]
  },
  {
   "cell_type": "markdown",
   "metadata": {},
   "source": [
    "# Problem 1\n",
    "\n",
    "Create a group GitHub repository. **Only one student should create a repository and name. All the other team members should join the group once it is created.** Do not create more than one repository for each team.\n",
    "\n",
    "In your group repository, push all the materials requested in problems 2 and 3."
   ]
  },
  {
   "cell_type": "markdown",
   "metadata": {},
   "source": [
    "# Problem 2\n",
    "\n",
    "For this assignment you will be collecting data for your project. Here are some great resources:\n",
    "\n",
    "* American Sign Language University (ASLU) [website](https://www.lifeprint.com/)\n",
    "\n",
    "* The ASL Alphabet [YouTube video](https://www.youtube.com/watch?v=tkMg8g8vVUo)\n",
    "\n",
    "You are to take pictures of you signing the American Sign Language (ASL) alphabet, **twenty times each** letter. Take pictures of your signing hand only, use the same background and maintain the same front-side view. Save the images as **.jpg** files.\n",
    "\n",
    "* Take pictures of **only** the following letters: 'a', 'b', 'c', 'd', 'e', 'f', 'g', 'h' and 'i' (20 times each).\n",
    "\n",
    "After taking the pictures, you are to crop the images (this can either be done on your phone or computer). Try to center and focus on your signing hand as much as possible.\n",
    "\n",
    "After you have collected **20 images of each character**, create a data set folder and run the code provided below to: (1) resize your pictures, (2) save your images in a numpy array in a pre-defined format (file named *data.npy*), and (3) create your labels array (file named *labels.npy*).\n",
    "\n",
    "To receive full credit for this question, you should push your full directory of images (180 total), your numpy image object and label vector. These files must be named and formatted correctly for full credit. Please ensure the data is properly pushed to the repository."
   ]
  },
  {
   "cell_type": "code",
   "execution_count": 1,
   "metadata": {},
   "outputs": [],
   "source": [
    "import numpy as np\n",
    "import matplotlib.pyplot as plt\n",
    "%matplotlib inline\n",
    "\n",
    "import os\n",
    "import matplotlib.image as mpimg\n",
    "import cv2"
   ]
  },
  {
   "cell_type": "code",
   "execution_count": 2,
   "metadata": {},
   "outputs": [
    {
     "name": "stdout",
     "output_type": "stream",
     "text": [
      "(27000, 100, 100, 3) (27000,)\n"
     ]
    }
   ],
   "source": [
    "# Folder location where all images are located\n",
    "mydir = (r'C:\\Users\\conno\\Github\\lab-1-machine-earning\\new_data')\n",
    "\n",
    "labels = []\n",
    "data = []\n",
    "for file in os.listdir(mydir):\n",
    "    # Will only read .jpg files\n",
    "    if file.endswith(\".JPG\") or file.endswith(\".jpg\"): \n",
    "        filename = mydir+'/'+file\n",
    "        x = mpimg.imread(filename)\n",
    "        resized_x = cv2.resize(x, (100, 100))\n",
    "        data.append((resized_x))\n",
    "        #plt.imshow(x);plt.show()\n",
    "        #print(file[0])\n",
    "        labels.append(file[0])\n",
    "\n",
    "print(np.shape(data), np.shape(labels))\n",
    "\n",
    "# Saves the files to your current directory\n",
    "np.save('data', data)\n",
    "np.save('labels', labels)"
   ]
  },
  {
   "cell_type": "markdown",
   "metadata": {},
   "source": [
    "Make sure you include in your group GitHub repository:\n",
    "\n",
    "1. A folder with the images\n",
    "2. The numpy data files \"data.npy\" and \"labels.npy\""
   ]
  },
  {
   "cell_type": "markdown",
   "metadata": {},
   "source": [
    "# Problem 3\n",
    "\n",
    "In this problem you will conduct the experimental design of your project and delineate a project proposal.\n",
    "\n",
    "In a team effort, your project proposal should include a discussion about the following stages of a machine learning system:\n",
    "\n",
    "1. **Data set:** identification of a data set with a discussion as to whether the data is easily available, the amount of data available, whether ground truth is available or can be generated.\n",
    "\n",
    "2. **Error Metrics:** discussion of appropriate error metrics, discussion of methods for cross-validation and discussion of a blind test set generation, all appropriate for the proposed problem.\n",
    "\n",
    "3. Include a paragraph discussion stating a set of experiments to be conducted. Include any other comments, such as anticipated issues and remedies, you may see fit.\n",
    "\n",
    "Make sure you include in your group GitHub repository:\n",
    "\n",
    "1. A pdf file that addresses all of these topics of your experimental design.\n",
    "    * The pdf file should contain the name of all team members"
   ]
  },
  {
   "cell_type": "code",
   "execution_count": null,
   "metadata": {},
   "outputs": [],
   "source": []
  }
 ],
 "metadata": {
  "kernelspec": {
   "display_name": "Python 3",
   "language": "python",
   "name": "python3"
  },
  "language_info": {
   "codemirror_mode": {
    "name": "ipython",
    "version": 3
   },
   "file_extension": ".py",
   "mimetype": "text/x-python",
   "name": "python",
   "nbconvert_exporter": "python",
   "pygments_lexer": "ipython3",
   "version": "3.7.6"
  },
  "latex_envs": {
   "LaTeX_envs_menu_present": true,
   "autoclose": true,
   "autocomplete": true,
   "bibliofile": "biblio.bib",
   "cite_by": "apalike",
   "current_citInitial": 1,
   "eqLabelWithNumbers": true,
   "eqNumInitial": 1,
   "hotkeys": {
    "equation": "Ctrl-E",
    "itemize": "Ctrl-I"
   },
   "labels_anchors": false,
   "latex_user_defs": false,
   "report_style_numbering": false,
   "user_envs_cfg": false
  }
 },
 "nbformat": 4,
 "nbformat_minor": 2
}
